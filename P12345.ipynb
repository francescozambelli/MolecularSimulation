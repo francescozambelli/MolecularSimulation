{
 "cells": [
  {
   "cell_type": "code",
   "execution_count": 3,
   "metadata": {},
   "outputs": [],
   "source": [
    "import mdtraj as mdt\n",
    "import numpy as np\n",
    "import matplotlib.pyplot as plt\n",
    "import nglview"
   ]
  },
  {
   "cell_type": "markdown",
   "metadata": {},
   "source": [
    "# LAB 2"
   ]
  },
  {
   "cell_type": "markdown",
   "metadata": {},
   "source": [
    "Converts the pdb file still in pdb file but in the amber format. I think it removes missing residues and not strictly necessary information.\n",
    "But in general it tells you where are the problems\n"
   ]
  },
  {
   "cell_type": "code",
   "execution_count": 3,
   "metadata": {},
   "outputs": [
    {
     "name": "stdout",
     "output_type": "stream",
     "text": [
      "/home/francesco/Scrivania/PDF_LEZIONI_2021-22/MOLECULAR SIMULATION/P2\n"
     ]
    }
   ],
   "source": [
    "%cd /home/francesco/Scrivania/PDF_LEZIONI_2021-22/MOLECULAR SIMULATION/P2"
   ]
  },
  {
   "cell_type": "code",
   "execution_count": 1,
   "metadata": {},
   "outputs": [
    {
     "name": "stdout",
     "output_type": "stream",
     "text": [
      "\n",
      "==================================================\n",
      "Summary of pdb4amber for: 1fko.pdb\n",
      "===================================================\n",
      "\n",
      "----------Chains\n",
      "The following (original) chains have been found:\n",
      "A\n",
      "B\n",
      "\n",
      "---------- Alternate Locations (Original Residues!))\n",
      "\n",
      "The following residues had alternate locations:\n",
      "None\n",
      "-----------Non-standard-resnames\n",
      "CSD, EFZ\n",
      "\n",
      "---------- Gaps (Renumbered Residues!)\n",
      "gap of 3.272103 A between LEU 279 and LYS 281\n",
      "gap of 7.585162 A between PHE 628 and LEU 629\n",
      "gap of 22.506030 A between GLY 750 and GLU 751\n",
      "\n",
      "---------- Mising heavy atom(s)\n",
      "\n",
      "None\n"
     ]
    }
   ],
   "source": [
    "! pdb4amber 1fko.pdb > 1fko_amber.pdb"
   ]
  },
  {
   "cell_type": "code",
   "execution_count": 9,
   "metadata": {},
   "outputs": [
    {
     "data": {
      "application/vnd.jupyter.widget-view+json": {
       "model_id": "2f08a1f1a0074afe82645026badce5bb",
       "version_major": 2,
       "version_minor": 0
      },
      "text/plain": [
       "NGLWidget()"
      ]
     },
     "metadata": {},
     "output_type": "display_data"
    }
   ],
   "source": [
    "view = nglview.show_structure_file(\"1fko_amber.pdb\")\n",
    "view.clear_representations()\n",
    "view.add_representation(repr_type='cartoon', selection='protein', color='sstruc')\n",
    "view.add_representation(repr_type='ball+stick', radius='0.1', selection='water')\n",
    "view.add_representation(repr_type='ball+stick', radius='0.5', selection='ligand')\n",
    "view.add_representation(repr_type='ball+stick', radius='0.5', selection='ion')\n",
    "view._remote_call('setSize', target='Widget', args=['','600px'])\n",
    "view"
   ]
  },
  {
   "cell_type": "code",
   "execution_count": 4,
   "metadata": {},
   "outputs": [
    {
     "name": "stdout",
     "output_type": "stream",
     "text": [
      "\n",
      "==================================================\n",
      "Summary of pdb4amber for: hiv_rt.pdb\n",
      "===================================================\n",
      "\n",
      "----------Chains\n",
      "The following (original) chains have been found:\n",
      "A\n",
      "\n",
      "---------- Alternate Locations (Original Residues!))\n",
      "\n",
      "The following residues had alternate locations:\n",
      "None\n",
      "-----------Non-standard-resnames\n",
      "CSD\n",
      "\n",
      "---------- Gaps (Renumbered Residues!)\n",
      "gap of 3.272103 A between LEU 279 and LYS 281\n",
      "\n",
      "---------- Mising heavy atom(s)\n",
      "\n",
      "None\n"
     ]
    }
   ],
   "source": [
    "! pdb4amber hiv_rt.pdb > hivrt_amber.pdb"
   ]
  },
  {
   "cell_type": "code",
   "execution_count": 5,
   "metadata": {},
   "outputs": [
    {
     "name": "stdout",
     "output_type": "stream",
     "text": [
      "\n",
      "==================================================\n",
      "Summary of pdb4amber for: hivrt_cys.pdb\n",
      "===================================================\n",
      "\n",
      "----------Chains\n",
      "The following (original) chains have been found:\n",
      "A\n",
      "\n",
      "---------- Alternate Locations (Original Residues!))\n",
      "\n",
      "The following residues had alternate locations:\n",
      "None\n",
      "-----------Non-standard-resnames\n",
      "\n",
      "\n",
      "---------- Mising heavy atom(s)\n",
      "\n",
      "None\n"
     ]
    }
   ],
   "source": [
    "! pdb4amber hivrt_cys.pdb > hivrt_cys_amber.pdb"
   ]
  },
  {
   "cell_type": "code",
   "execution_count": 7,
   "metadata": {},
   "outputs": [
    {
     "data": {
      "application/vnd.jupyter.widget-view+json": {
       "model_id": "9cb40461b1c44e1f9281727802f96b86",
       "version_major": 2,
       "version_minor": 0
      },
      "text/plain": [
       "NGLWidget()"
      ]
     },
     "metadata": {},
     "output_type": "display_data"
    }
   ],
   "source": [
    "view = nglview.show_structure_file(\"hivrt_cys_amber.pdb\")\n",
    "view.clear_representations()\n",
    "view.add_representation(repr_type='cartoon', selection='protein', color='sstruc')\n",
    "view.add_representation(repr_type='ball+stick', radius='0.1', selection='water')\n",
    "view.add_representation(repr_type='ball+stick', radius='0.5', selection='ligand')\n",
    "view.add_representation(repr_type='ball+stick', radius='0.5', selection='ion')\n",
    "view._remote_call('setSize', target='Widget', args=['','600px'])\n",
    "view"
   ]
  },
  {
   "cell_type": "markdown",
   "metadata": {},
   "source": [
    "First, let's run reduce to add all the hydrogen atoms to the pdb file."
   ]
  },
  {
   "cell_type": "code",
   "execution_count": 3,
   "metadata": {},
   "outputs": [
    {
     "name": "stdout",
     "output_type": "stream",
     "text": [
      "reduce: version 3.3 06/02/2016, Copyright 1997-2016, J. Michael Word\n",
      "Processing file: \"efz.pdb\"\n",
      "Database of HETATM connections: \"/home/francesco/anaconda3/envs/AmberTools21//dat/reduce_wwPDB_het_dict.txt\"\n",
      "VDW dot density = 16/A^2\n",
      "Orientation penalty scale = 1 (100%)\n",
      "Eliminate contacts within 3 bonds.\n",
      "Ignore atoms with |occupancy| <= 0.01 during adjustments.\n",
      "Waters ignored if B-Factor >= 40 or |occupancy| < 0.66\n",
      "Aromatic rings in amino acids accept hydrogen bonds.\n",
      "Building or keeping OH & SH Hydrogens.\n",
      "Rotating NH3 Hydrogens.\n",
      "Not processing Met methyls.\n",
      "WARNING: atom H101 from EFZ will be treated as hydrogen\n",
      "WARNING: atom H101 from EFZ will be treated as hydrogen\n",
      "WARNING: atom H111 from EFZ will be treated as hydrogen\n",
      "WARNING: atom H111 from EFZ will be treated as hydrogen\n",
      "WARNING: atom H112 from EFZ will be treated as hydrogen\n",
      "WARNING: atom H112 from EFZ will be treated as hydrogen\n",
      "WARNING: atom H111 from EFZ will be treated as hydrogen\n",
      "WARNING: atom H112 from EFZ will be treated as hydrogen\n",
      "WARNING: atom H121 from EFZ will be treated as hydrogen\n",
      "WARNING: atom H121 from EFZ will be treated as hydrogen\n",
      "WARNING: atom H122 from EFZ will be treated as hydrogen\n",
      "WARNING: atom H122 from EFZ will be treated as hydrogen\n",
      "WARNING: atom H121 from EFZ will be treated as hydrogen\n",
      "WARNING: atom H122 from EFZ will be treated as hydrogen\n",
      "WARNING: atom H122 from EFZ will be treated as hydrogen\n",
      "WARNING: atom H122 from EFZ will be treated as hydrogen\n",
      "WARNING: atom H121 from EFZ will be treated as hydrogen\n",
      "WARNING: atom H121 from EFZ will be treated as hydrogen\n",
      "WARNING: atom H122 from EFZ will be treated as hydrogen\n",
      "WARNING: atom H121 from EFZ will be treated as hydrogen\n",
      "WARNING: atom H112 from EFZ will be treated as hydrogen\n",
      "WARNING: atom H112 from EFZ will be treated as hydrogen\n",
      "WARNING: atom H111 from EFZ will be treated as hydrogen\n",
      "WARNING: atom H111 from EFZ will be treated as hydrogen\n",
      "WARNING: atom H112 from EFZ will be treated as hydrogen\n",
      "WARNING: atom H111 from EFZ will be treated as hydrogen\n",
      "WARNING: atom H101 from EFZ will be treated as hydrogen\n",
      "WARNING: atom H101 from EFZ will be treated as hydrogen\n",
      "Found 0 hydrogens (0 hets)\n",
      "Standardized 0 hydrogens (0 hets)\n",
      "Added 9 hydrogens (9 hets)\n",
      "Removed 0 hydrogens (0 hets)\n",
      "If you publish work which uses reduce, please cite:\n",
      "Word, et. al. (1999) J. Mol. Biol. 285, 1735-1747.\n",
      "For more information see http://kinemage.biochem.duke.edu\n"
     ]
    }
   ],
   "source": [
    "! reduce efz.pdb > efz_new.pdb"
   ]
  },
  {
   "cell_type": "markdown",
   "metadata": {},
   "source": [
    "I think it generates the bonds and the charges for the molecule and then it writes them on the .mol2 file. On the sqm.out I think that there are the passages to compute the charges with sqm, and tell you if it converged or not.\n"
   ]
  },
  {
   "cell_type": "markdown",
   "metadata": {},
   "source": [
    "Now let's try using antechamber on our EFZ pdb file. To create the \"mol2\" file, required to define a new unit in LEaP, we simply run the following command:"
   ]
  },
  {
   "cell_type": "code",
   "execution_count": 4,
   "metadata": {},
   "outputs": [
    {
     "name": "stdout",
     "output_type": "stream",
     "text": [
      "\n",
      "Welcome to antechamber 21.0: molecular input file processor.\n",
      "\n",
      "acdoctor mode is on: check and diagnose problems in the input file.\n",
      "The atom type is set to gaff; the options available to the -at flag are\n",
      "    gaff, gaff2, amber, bcc, and sybyl.\n",
      "-- Check Format for pdb File --\n",
      "   Status: pass\n",
      "Info: Determining atomic numbers from atomic symbols which are case sensitive.\n",
      "-- Check Unusual Elements --\n",
      "   Status: pass\n",
      "-- Check Open Valences --\n",
      "   Status: pass\n",
      "-- Check Geometry --\n",
      "      for those bonded   \n",
      "      for those not bonded   \n",
      "   Status: pass\n",
      "-- Check Weird Bonds --\n",
      "   Status: pass\n",
      "-- Check Number of Units --\n",
      "   Status: pass\n",
      "acdoctor mode has completed checking the input file.\n",
      "\n",
      "Running: /home/francesco/anaconda3/envs/AmberTools21/bin/bondtype -j full -i ANTECHAMBER_BOND_TYPE.AC0 -o ANTECHAMBER_BOND_TYPE.AC -f ac\n",
      "\n",
      "Running: /home/francesco/anaconda3/envs/AmberTools21/bin/atomtype -i ANTECHAMBER_AC.AC0 -o ANTECHAMBER_AC.AC -p gaff\n",
      "Info: Total number of electrons: 160; net charge: 0\n",
      "\n",
      "Running: /home/francesco/anaconda3/envs/AmberTools21/bin/sqm -O -i sqm.in -o sqm.out\n",
      "\n",
      "Running: /home/francesco/anaconda3/envs/AmberTools21/bin/am1bcc -i ANTECHAMBER_AM1BCC_PRE.AC -o ANTECHAMBER_AM1BCC.AC -f ac -p /home/francesco/anaconda3/envs/AmberTools21/dat/antechamber/BCCPARM.DAT -s 2 -j 1\n",
      "\n",
      "Running: /home/francesco/anaconda3/envs/AmberTools21/bin/atomtype -f ac -p bcc -o ANTECHAMBER_AM1BCC.AC -i ANTECHAMBER_AM1BCC_PRE.AC\n",
      "\n"
     ]
    }
   ],
   "source": [
    "! antechamber -i efz_new.pdb -fi pdb -o efz.mol2 -fo mol2 -c bcc -s 2"
   ]
  },
  {
   "cell_type": "markdown",
   "metadata": {},
   "source": [
    "Here the -i efz.pdb specifies the name of the 3D structure file and the -fi pdb tells antechamber that this is a pdb format file (we could easily have used any number of other supported formats including Gaussian Z-Matrix [gzmat], Gaussian Output [gout], MDL [mdl], amber Restart [rst], Sybyl Mol2 [mol2]). The -o efz.mol2 specifies the name of our output file and the -fo mol2 states that we want the output file to be of Tripos Mol2 format (this is an internal format supported by LEaP). The -c bcc option tells antechamber to use the AM1-BCC charge model in order to calculate the atomic point charges while the -s 2 option defines the verbosity of the status information provided by antechamber. In this case we have selected verbose output (2)."
   ]
  },
  {
   "cell_type": "markdown",
   "metadata": {},
   "source": [
    "The files in CAPITALS are all intermediate files used by antechamber and are not required here. You can safely delete them. These files are not deleted by default since they may be of interest if things didn't work correctly. The sqm.xxx files are input and output from the sqm quantum mechanics code used by Antechamber to calculate the atomic point charges. We are not interested in the data here except to check that the sqm calculation completed successfully. In the last line of the sqm.out file we should read:\n",
    "\n",
    "************* Calculation Completed ************** "
   ]
  },
  {
   "cell_type": "markdown",
   "metadata": {},
   "source": [
    "The file that we are really interested in, and the reason we ran Antechamber in the first place, is the efz.mol2 file. This contains the definition of our efz residue including all of the charges and atom types that we will load into LEaP to when creating our prmtop and rst7 files. Let's take a quick look at the file:\n",
    "\n",
    "<img src=\"/home/francesco/Scrivania/PDF_LEZIONI_2021-22/MOLECULAR_SIMULATION/MolecularSimulation/Images/efzmol2.png\" width=\"600\">"
   ]
  },
  {
   "cell_type": "markdown",
   "metadata": {},
   "source": [
    " As you can see this file contains the 3 dimensional structure of our efz molecule as well as the charge on each atom, final column, the atom number (column 1), its name (column 2) and it's atom type (column 6). It also specifies the bonding at the end of the file. This file does not, however, contain any parameters. The GAFF parameters are all defined in $AMBERHOME/dat/leap/parm/gaff.dat. The other thing you should notice here is that all of the GAFF atom types are in lower case. This is the mechanism by which the GAFF force field is kept independent of the macromolecular AMBER force fields. All of the traditional AMBER force fields use uppercase atom types. In this way the GAFF and traditional force fields can be mixed in the same calculation.\n",
    "\n",
    "While the most likely combinations of bond, angle and dihedral parameters are defined in the parameter file it is possible that our molecule might contain combinations of atom types for bonds, angles or dihedrals that have not been parameterised. If this is the case then we will have to specify any missing parameters before we can create our prmtop and rst7 files in LEaP."
   ]
  },
  {
   "cell_type": "markdown",
   "metadata": {},
   "source": [
    "It contains all the essential components for the force field that are necessary to run tleap. Follows more or less the .mol2 format\n"
   ]
  },
  {
   "cell_type": "markdown",
   "metadata": {},
   "source": [
    "We can use the utility parmchk to test if all the parameters we require are available."
   ]
  },
  {
   "cell_type": "code",
   "execution_count": 5,
   "metadata": {},
   "outputs": [],
   "source": [
    "! parmchk2 -i efz.mol2 -f mol2 -o efz.frcmod"
   ]
  },
  {
   "cell_type": "markdown",
   "metadata": {},
   "source": [
    "Run this command now and it will produce a file called efz.frcmod. This is a parameter file that can be loaded into LEaP in order to add missing parameters. Here it will contain all of the missing parameters. If it can antechamber will fill in these missing parameters by analogy to a similar parameter. You should check these parameters carefully before running a simulation. If antechamber can't empirically calculate a value or has no analogy it will either add a default value that it thinks is reasonable or alternatively insert a place holder (with zeros everywhere) and the comment \"ATTN: needs revision\". In this case you will have to manually parameterise this yourself. It is the hope that as GAFF is developed, the number of missing parameters will decrease. Let's look at our frcmod file:\n",
    "\n",
    "<img src=\"/home/francesco/Scrivania/PDF_LEZIONI_2021-22/MOLECULAR_SIMULATION/MolecularSimulation/Images/efzfrcmod.png\" width=\"800\">\n",
    "\n",
    "We can see that there were a total of 4 missing angle parameters and 4 missing improper dihedrals. For the purposes of this tutorial we shall assume that the parameters Antechamber has suggested for us are acceptable. Ideally you should really test these parameters (by comparing to ab initio calculations for example) to ensure they are reasonable. If you see any parameters listed with the comment \"ATTN: NEEDS REVISION\" then it means that Antechamber could not determine suitable parameters and so you must manually provide these before you can proceed with the simulation. By default Antechamber will have set the values to zero."
   ]
  },
  {
   "cell_type": "markdown",
   "metadata": {},
   "source": [
    "Now we can run the tleap file with a list of commands contained in the *tleap_efz.in* file:\n",
    "```\n",
    "source oldff/leaprc.ff99SB\n",
    "source leaprc.gaff\n",
    "EFZ = loadmol2 efz.mol2    \n",
    "list\n",
    "check EFZ\n",
    "loadamberparams efz.frcmod\n",
    "check EFZ\n",
    "saveoff EFZ efz.lib\n",
    "saveamberparm EFZ efz.prmtop efz.rst7\n",
    "quit\n",
    "```\n",
    "In order:\n",
    "1. ensure the GAFF force field is available\n",
    "2. ensure that it knows about the GAFF force field\n",
    "3. we can load our efz unit\n",
    "4. if you now type list in tleap you should see the new EFZ unit\n",
    "5. at this point we haven't loaded the frcmod file that parmchk gave us. Thus if we check our SUS unit we should find that there are 4 missing angle type parameters.\n",
    "6. we can now load our frcmod file in order to tell tleap the parameters for these missing angle types\n",
    "7. if we now check out SUS unit we should find that there are no missing parameters (The output from tleap shows a few warnings, which can be safely ignored in this case due to the triangular bond geometry of sustiva)\n",
    "8. \n",
    "9. we can now create the library file for sustiva (sus.lib), as well as the prmtop and rst7 files (sustiva.prmtop, sustiva.rst7)\n",
    "10. exit from tleap\n"
   ]
  },
  {
   "cell_type": "code",
   "execution_count": 6,
   "metadata": {},
   "outputs": [
    {
     "name": "stdout",
     "output_type": "stream",
     "text": [
      "-I: Adding /home/francesco/anaconda3/envs/AmberTools21/dat/leap/prep to search path.\n",
      "-I: Adding /home/francesco/anaconda3/envs/AmberTools21/dat/leap/lib to search path.\n",
      "-I: Adding /home/francesco/anaconda3/envs/AmberTools21/dat/leap/parm to search path.\n",
      "-I: Adding /home/francesco/anaconda3/envs/AmberTools21/dat/leap/cmd to search path.\n",
      "-f: Source tleap_efz.in.\n",
      "\n",
      "Welcome to LEaP!\n",
      "(no leaprc in search path)\n",
      "Sourcing: ./tleap_efz.in\n",
      "----- Source: /home/francesco/anaconda3/envs/AmberTools21/dat/leap/cmd/oldff/leaprc.ff99SB\n",
      "----- Source of /home/francesco/anaconda3/envs/AmberTools21/dat/leap/cmd/oldff/leaprc.ff99SB done\n",
      "Log file: ./leap.log\n",
      "Loading parameters: /home/francesco/anaconda3/envs/AmberTools21/dat/leap/parm/parm99.dat\n",
      "Reading title:\n",
      "PARM99 for DNA,RNA,AA, organic molecules, Polariz.& LP incl.02/04/99\n",
      "Loading parameters: /home/francesco/anaconda3/envs/AmberTools21/dat/leap/parm/frcmod.ff99SB\n",
      "Reading force field modification type file (frcmod)\n",
      "Reading title:\n",
      "Modification/update of parm99.dat (Hornak & Simmerling)\n",
      "Loading library: /home/francesco/anaconda3/envs/AmberTools21/dat/leap/lib/all_nucleic94.lib\n",
      "Loading library: /home/francesco/anaconda3/envs/AmberTools21/dat/leap/lib/all_amino94.lib\n",
      "Loading library: /home/francesco/anaconda3/envs/AmberTools21/dat/leap/lib/all_aminoct94.lib\n",
      "Loading library: /home/francesco/anaconda3/envs/AmberTools21/dat/leap/lib/all_aminont94.lib\n",
      "Loading library: /home/francesco/anaconda3/envs/AmberTools21/dat/leap/lib/ions94.lib\n",
      "Loading library: /home/francesco/anaconda3/envs/AmberTools21/dat/leap/lib/solvents.lib\n",
      "----- Source: /home/francesco/anaconda3/envs/AmberTools21/dat/leap/cmd/leaprc.gaff\n",
      "----- Source of /home/francesco/anaconda3/envs/AmberTools21/dat/leap/cmd/leaprc.gaff done\n",
      "Log file: ./leap.log\n",
      "Loading parameters: /home/francesco/anaconda3/envs/AmberTools21/dat/leap/parm/gaff.dat\n",
      "Reading title:\n",
      "AMBER General Force Field for organic molecules (Version 1.81, May 2017)\n",
      "Loading Mol2 file: ./efz.mol2\n",
      "Reading MOLECULE named EFZ\n",
      "ACE       ALA       ARG       ASH       ASN       ASP       CALA      CARG      \n",
      "CASN      CASP      CCYS      CCYX      CGLN      CGLU      CGLY      CHCL3BOX  \n",
      "CHID      CHIE      CHIP      CHIS      CILE      CIO       CLEU      CLYS      \n",
      "CMET      CPHE      CPRO      CSER      CTHR      CTRP      CTYR      CVAL      \n",
      "CYM       CYS       CYX       Cl-       Cs+       DA        DA3       DA5       \n",
      "DAN       DC        DC3       DC4       DC5       DCN       DG        DG3       \n",
      "DG5       DGN       DT        DT3       DT5       DTN       EFZ       FB3       \n",
      "FB3BOX    FB4       FB4BOX    GLH       GLN       GLU       GLY       HID       \n",
      "HIE       HIP       HIS       HOH       IB        ILE       K+        LEU       \n",
      "LYN       LYS       Li+       MEOHBOX   MET       MG2       NALA      NARG      \n",
      "NASN      NASP      NCYS      NCYX      NGLN      NGLU      NGLY      NHE       \n",
      "NHID      NHIE      NHIP      NHIS      NILE      NLEU      NLYS      NMABOX    \n",
      "NME       NMET      NPHE      NPRO      NSER      NTHR      NTRP      NTYR      \n",
      "NVAL      Na+       OP3       OPC       OPC3BOX   OPCBOX    PHE       PL3       \n",
      "POL3BOX   PRO       QSPCFWBOX RA        RA3       RA5       RAN       RC        \n",
      "RC3       RC5       RCN       RG        RG3       RG5       RGN       RU        \n",
      "RU3       RU5       RUN       Rb+       SER       SPC       SPCBOX    SPCFWBOX  \n",
      "SPF       SPG       T4E       THR       TIP3PBOX  TIP3PFBOX TIP4PBOX  TIP4PEWBOX\n",
      "TIP5PBOX  TP3       TP4       TP5       TPF       TRP       TYR       VAL       \n",
      "WAT       frcmod99SBgaff      parm99    \n",
      "Checking 'EFZ'....\n",
      "Checking parameters for unit 'EFZ'.\n",
      "Checking for bond parameters.\n",
      "Checking for angle parameters.\n",
      "Unit is OK.\n",
      "Loading parameters: ./efz.frcmod\n",
      "Reading force field modification type file (frcmod)\n",
      "Reading title:\n",
      "Remark line goes here\n",
      "Building topology.\n",
      "Building atom parameters.\n",
      "Checking Unit.\n",
      "Building topology.\n",
      "Building atom parameters.\n",
      "Building bond parameters.\n",
      "Building angle parameters.\n",
      "Building proper torsion parameters.\n",
      "\n",
      "/home/francesco/anaconda3/envs/AmberTools21/bin/teLeap: Note.\n",
      "1-4: angle 17 19 duplicates bond ('triangular' bond) or angle ('square' bond)\n",
      "\n",
      "\n",
      "/home/francesco/anaconda3/envs/AmberTools21/bin/teLeap: Note.\n",
      "1-4: angle 17 18 duplicates bond ('triangular' bond) or angle ('square' bond)\n",
      "\n",
      "\n",
      "/home/francesco/anaconda3/envs/AmberTools21/bin/teLeap: Note.\n",
      "1-4: angle 18 19 duplicates bond ('triangular' bond) or angle ('square' bond)\n",
      "\n",
      "Building improper torsion parameters.\n",
      " total 8 improper torsions applied\n",
      "Building H-Bond parameters.\n",
      "Incorporating Non-Bonded adjustments.\n",
      "Not Marking per-residue atom chain types.\n",
      "Marking per-residue atom chain types.\n",
      "  (Residues lacking connect0/connect1 - \n",
      "   these don't have chain types marked:\n",
      "\n",
      "\tres\ttotal affected\n",
      "\n",
      "\tEFZ\t1\n",
      "  )\n",
      " (no restraints)\n",
      "\tQuit\n",
      "\n",
      "Exiting LEaP: Errors = 0; Warnings = 0; Notes = 3.\n"
     ]
    }
   ],
   "source": [
    "! tleap -f tleap_efz.in"
   ]
  },
  {
   "cell_type": "code",
   "execution_count": 7,
   "metadata": {},
   "outputs": [],
   "source": [
    "! cat hivrt_cys.pdb efz.pdb > hivrt_efz.pdb"
   ]
  },
  {
   "cell_type": "markdown",
   "metadata": {},
   "source": [
    "Pay attention to remove the END at the end of the protein chain becase it is interpreted by leap as the end of the whole molecule. The TER it's not relevant."
   ]
  },
  {
   "cell_type": "code",
   "execution_count": 8,
   "metadata": {},
   "outputs": [
    {
     "data": {
      "application/vnd.jupyter.widget-view+json": {
       "model_id": "5e3de0a2091a451892b7684e504f3e11",
       "version_major": 2,
       "version_minor": 0
      },
      "text/plain": [
       "NGLWidget()"
      ]
     },
     "metadata": {},
     "output_type": "display_data"
    }
   ],
   "source": [
    "# Show protein\n",
    "view = nglview.show_structure_file(\"hivrt_efz.pdb\")\n",
    "view.clear_representations()\n",
    "view.add_representation(repr_type='cartoon', selection='protein', color='sstruc')\n",
    "view.add_representation(repr_type='ball+stick', radius='0.1', selection='water')\n",
    "view.add_representation(repr_type='ball+stick', radius='0.5', selection='ligand')\n",
    "view.add_representation(repr_type='ball+stick', radius='0.5', selection='ion')\n",
    "view._remote_call('setSize', target='Widget', args=['','600px'])\n",
    "view"
   ]
  },
  {
   "cell_type": "markdown",
   "metadata": {},
   "source": [
    "Then you do the same procedure you used with the substrate efz for the entire complex, protein+substrate. The input file is now *tleap_protefz.in*:\n",
    "\n",
    "```\n",
    "source oldff/leaprc.ff99SB\n",
    "source leaprc.gaff \n",
    "loadamberparams efz.frcmod\n",
    "loadoff efz.lib\n",
    "hivcompl = loadpdb hivrt_efz.pdb\n",
    "saveamberparm hivcompl hivrt_efz.prmtop hivrt_efz.rst7\n",
    "savepdb hivcompl hivrt_efz_amber.pdb\n",
    "quit\n",
    "\n",
    "```\n"
   ]
  },
  {
   "cell_type": "code",
   "execution_count": 8,
   "metadata": {},
   "outputs": [
    {
     "name": "stdout",
     "output_type": "stream",
     "text": [
      "-I: Adding /home/francesco/anaconda3/envs/AmberTools21/dat/leap/prep to search path.\n",
      "-I: Adding /home/francesco/anaconda3/envs/AmberTools21/dat/leap/lib to search path.\n",
      "-I: Adding /home/francesco/anaconda3/envs/AmberTools21/dat/leap/parm to search path.\n",
      "-I: Adding /home/francesco/anaconda3/envs/AmberTools21/dat/leap/cmd to search path.\n",
      "-f: Source tleap_protefz.in.\n",
      "\n",
      "Welcome to LEaP!\n",
      "(no leaprc in search path)\n",
      "Sourcing: ./tleap_protefz.in\n",
      "----- Source: /home/francesco/anaconda3/envs/AmberTools21/dat/leap/cmd/oldff/leaprc.ff99SB\n",
      "----- Source of /home/francesco/anaconda3/envs/AmberTools21/dat/leap/cmd/oldff/leaprc.ff99SB done\n",
      "Log file: ./leap.log\n",
      "Loading parameters: /home/francesco/anaconda3/envs/AmberTools21/dat/leap/parm/parm99.dat\n",
      "Reading title:\n",
      "PARM99 for DNA,RNA,AA, organic molecules, Polariz.& LP incl.02/04/99\n",
      "Loading parameters: /home/francesco/anaconda3/envs/AmberTools21/dat/leap/parm/frcmod.ff99SB\n",
      "Reading force field modification type file (frcmod)\n",
      "Reading title:\n",
      "Modification/update of parm99.dat (Hornak & Simmerling)\n",
      "Loading library: /home/francesco/anaconda3/envs/AmberTools21/dat/leap/lib/all_nucleic94.lib\n",
      "Loading library: /home/francesco/anaconda3/envs/AmberTools21/dat/leap/lib/all_amino94.lib\n",
      "Loading library: /home/francesco/anaconda3/envs/AmberTools21/dat/leap/lib/all_aminoct94.lib\n",
      "Loading library: /home/francesco/anaconda3/envs/AmberTools21/dat/leap/lib/all_aminont94.lib\n",
      "Loading library: /home/francesco/anaconda3/envs/AmberTools21/dat/leap/lib/ions94.lib\n",
      "Loading library: /home/francesco/anaconda3/envs/AmberTools21/dat/leap/lib/solvents.lib\n",
      "----- Source: /home/francesco/anaconda3/envs/AmberTools21/dat/leap/cmd/leaprc.gaff\n",
      "----- Source of /home/francesco/anaconda3/envs/AmberTools21/dat/leap/cmd/leaprc.gaff done\n",
      "Log file: ./leap.log\n",
      "Loading parameters: /home/francesco/anaconda3/envs/AmberTools21/dat/leap/parm/gaff.dat\n",
      "Reading title:\n",
      "AMBER General Force Field for organic molecules (Version 1.81, May 2017)\n",
      "Loading parameters: ./efz.frcmod\n",
      "Reading force field modification type file (frcmod)\n",
      "Reading title:\n",
      "Remark line goes here\n",
      "Loading library: ./efz.lib\n",
      "Loading PDB file: ./hivrt_efz.pdb\n",
      "  Added missing heavy atom: .R<CGLY 543>.A<OXT 8>\n",
      "  total atoms in file: 4453\n",
      "  Leap added 4487 missing atoms according to residue templates:\n",
      "       1 Heavy\n",
      "       4486 H / lone pairs\n",
      "Checking Unit.\n",
      "\n",
      "/home/francesco/anaconda3/envs/AmberTools21/bin/teLeap: Warning!\n",
      "The unperturbed charge of the unit (1.998000) is not zero.\n",
      "\n",
      "/home/francesco/anaconda3/envs/AmberTools21/bin/teLeap: Note.\n",
      "Ignoring the warning from Unit Checking.\n",
      "\n",
      "Building topology.\n",
      "Building atom parameters.\n",
      "Building bond parameters.\n",
      "Building angle parameters.\n",
      "Building proper torsion parameters.\n",
      "\n",
      "/home/francesco/anaconda3/envs/AmberTools21/bin/teLeap: Note.\n",
      "1-4: angle 8928 8929 duplicates bond ('triangular' bond) or angle ('square' bond)\n",
      "\n",
      "\n",
      "/home/francesco/anaconda3/envs/AmberTools21/bin/teLeap: Note.\n",
      "1-4: angle 8927 8929 duplicates bond ('triangular' bond) or angle ('square' bond)\n",
      "\n",
      "\n",
      "/home/francesco/anaconda3/envs/AmberTools21/bin/teLeap: Note.\n",
      "1-4: angle 8927 8928 duplicates bond ('triangular' bond) or angle ('square' bond)\n",
      "\n",
      "Building improper torsion parameters.\n",
      " total 1716 improper torsions applied\n",
      "Building H-Bond parameters.\n",
      "Incorporating Non-Bonded adjustments.\n",
      "Not Marking per-residue atom chain types.\n",
      "Marking per-residue atom chain types.\n",
      "  (Residues lacking connect0/connect1 - \n",
      "   these don't have chain types marked:\n",
      "\n",
      "\tres\ttotal affected\n",
      "\n",
      "\tCGLY\t1\n",
      "\tEFZ\t1\n",
      "\tNPRO\t1\n",
      "  )\n",
      " (no restraints)\n",
      "Writing pdb file: hivrt_efz_amber.pdb\n",
      "\n",
      "/home/francesco/anaconda3/envs/AmberTools21/bin/teLeap: Warning!\n",
      " Converting N-terminal residue name to PDB format: NPRO -> PRO\n",
      "\n",
      "/home/francesco/anaconda3/envs/AmberTools21/bin/teLeap: Warning!\n",
      " Converting C-terminal residue name to PDB format: CGLY -> GLY\n",
      "\tQuit\n",
      "\n",
      "Exiting LEaP: Errors = 0; Warnings = 3; Notes = 4.\n"
     ]
    }
   ],
   "source": [
    "! tleap -f tleap_protefz.in"
   ]
  },
  {
   "cell_type": "markdown",
   "metadata": {},
   "source": [
    "## Minimization"
   ]
  },
  {
   "cell_type": "markdown",
   "metadata": {},
   "source": [
    "Once we have the topology and coordinate files of RT-Sustiva complex, we are ready to run short GB simulations on Sustiva-RT. Note, the procedure given here is very short in order to make the simulations compatible with the timescale of this tutorial. In a real \"production\" simulation you would typically run a much longer simulation (ns) in order to obtain good statistical convergence.\n",
    "\n",
    "First, we will minimize our complex to remove any possible bad contacts. Here's our input file min.in. We will do a total of 200 steps of minimization (MAXCYC) with the first 50 being steepest descent (NCYC), the remainder will be conjugate gradient (MAXCYC-NCYC). We will use a reasonably large cut off of 16 Angstroms since this is not going to be a periodic simulation and we want to deal with our electrostatics accurately (NTB=0,CUT=16). For our implicit solvent model we will use the GB model of Hawkins, Cramer and Truhlar, see the AMBER manual for a full description (IGB=1). The input file *min_1.in* consists in:\n",
    "\n",
    "```\n",
    "cat > mdin <<EOF\n",
    " &cntrl \n",
    "   imin=1, maxcyc=100, ncyc=50, cut=16, ntb=0, igb=1,\n",
    " /\n",
    "EOF\n",
    "\n",
    "set output = minout\n",
    "\n",
    "```"
   ]
  },
  {
   "cell_type": "code",
   "execution_count": 31,
   "metadata": {},
   "outputs": [],
   "source": [
    "! sander -O -i min_1.in -o hivrt_efz_min.out -p hivrt_efz.prmtop -c hivrt_efz.rst7  -r hivrt_efz_min.ncrst"
   ]
  },
  {
   "cell_type": "markdown",
   "metadata": {},
   "source": [
    "If you we add a & at the end of the command, the program will run in the background (this can be done only on the terminal and not in a jupyter notebook)"
   ]
  },
  {
   "cell_type": "code",
   "execution_count": 17,
   "metadata": {},
   "outputs": [],
   "source": [
    "! grep -A1 \" ENERGY \" hivrt_efz_min.out | grep -v \" ENERGY \" | grep \" \"| awk '{print$1,$2}' > min_an/energy.dat \n",
    "! grep -A1 \" GMAX \" hivrt_efz_min.out | grep -v \" GMAX \" | grep \" \"| awk '{print$1,$4}' > min_an/gmax.dat "
   ]
  },
  {
   "cell_type": "code",
   "execution_count": 18,
   "metadata": {},
   "outputs": [],
   "source": [
    "sum_energ_min = np.loadtxt(\"min_an/energy.dat\")\n",
    "sum_gmax_min = np.loadtxt(\"min_an/gmax.dat\")"
   ]
  },
  {
   "cell_type": "code",
   "execution_count": 21,
   "metadata": {},
   "outputs": [
    {
     "data": {
      "image/png": "[encoded data removed]",
      "text/plain": [
       "<Figure size 432x288 with 1 Axes>"
      ]
     },
     "metadata": {},
     "output_type": "display_data"
    },
    {
     "data": {
      "image/png": "[encoded data removed]",
      "text/plain": [
       "<Figure size 432x288 with 1 Axes>"
      ]
     },
     "metadata": {},
     "output_type": "display_data"
    }
   ],
   "source": [
    "with plt.style.context(\"ggplot\"):\n",
    "    plt.plot(sum_energ_min[:,0], sum_energ_min[:,1])\n",
    "    plt.xlabel(\"Iterations\")\n",
    "    plt.ylabel(\"Energy\")\n",
    "    plt.tight_layout()\n",
    "plt.show()\n",
    "\n",
    "with plt.style.context(\"ggplot\"):\n",
    "    plt.semilogy(sum_gmax_min[:,0], sum_gmax_min[:,1], \".-\", color=\"navy\")\n",
    "    plt.xlabel(\"Iterations\")\n",
    "    plt.ylabel(\"Gmax\")\n",
    "    plt.tight_layout()\n",
    "plt.show()"
   ]
  },
  {
   "cell_type": "markdown",
   "metadata": {},
   "source": [
    "# LAB 3"
   ]
  },
  {
   "cell_type": "markdown",
   "metadata": {},
   "source": [
    "## 6. Generating an environment: solvent, ions"
   ]
  },
  {
   "cell_type": "code",
   "execution_count": 1,
   "metadata": {},
   "outputs": [
    {
     "name": "stdout",
     "output_type": "stream",
     "text": [
      "[Errno 2] No such file or directory: '/home/francesco/Scrivania/PDF_LEZIONI_2021-22/MOLECULAR SIMULATION/P3'\n",
      "/home/francesco/Scrivania/PDF_LEZIONI_2021-22/MOLECULAR_SIMULATION\n"
     ]
    }
   ],
   "source": [
    "%cd /home/francesco/Scrivania/PDF_LEZIONI_2021-22/MOLECULAR SIMULATION/P3"
   ]
  },
  {
   "cell_type": "markdown",
   "metadata": {},
   "source": [
    "The input file is *tleap_protefz.in*:\n",
    "\n",
    "```\n",
    "source oldff/leaprc.ff99SB\n",
    "source leaprc.gaff \n",
    "loadamberparams efz.frcmod\n",
    "loadoff efz.lib\n",
    "hivcompl = loadpdb hivrt_efz.pdb\n",
    "addIons hivcompl Cl- 2\n",
    "source leaprc.water.tip3p\n",
    "solvatebox hivcompl TIP3PBOX 10.0\n",
    "saveamberparm hivcompl hivrt_efz_solv.prmtop hivrt_efz_solv.rst7\n",
    "savepdb hivcompl hivrt_efz_solv.pdb\n",
    "quit\n",
    "```\n",
    "In order:\n",
    "\n",
    "1. \n",
    "2. \n",
    "3. \n",
    "4. \n",
    "5. \n",
    "6. add ions to neutralize\n",
    "7. load the water model. Always be sure that is compatible with our system (check the library and articles related)\n",
    "8. solvate in the cubuc box\n",
    "9. \n",
    "10. "
   ]
  },
  {
   "cell_type": "code",
   "execution_count": 5,
   "metadata": {},
   "outputs": [
    {
     "name": "stdout",
     "output_type": "stream",
     "text": [
      "-I: Adding /home/francesco/anaconda3/envs/AmberTools21/dat/leap/prep to search path.\n",
      "-I: Adding /home/francesco/anaconda3/envs/AmberTools21/dat/leap/lib to search path.\n",
      "-I: Adding /home/francesco/anaconda3/envs/AmberTools21/dat/leap/parm to search path.\n",
      "-I: Adding /home/francesco/anaconda3/envs/AmberTools21/dat/leap/cmd to search path.\n",
      "-f: Source tleap_protefz_solv.in.\n",
      "\n",
      "Welcome to LEaP!\n",
      "(no leaprc in search path)\n",
      "Sourcing: ./tleap_protefz_solv.in\n",
      "----- Source: /home/francesco/anaconda3/envs/AmberTools21/dat/leap/cmd/oldff/leaprc.ff99SB\n",
      "----- Source of /home/francesco/anaconda3/envs/AmberTools21/dat/leap/cmd/oldff/leaprc.ff99SB done\n",
      "Log file: ./leap.log\n",
      "Loading parameters: /home/francesco/anaconda3/envs/AmberTools21/dat/leap/parm/parm99.dat\n",
      "Reading title:\n",
      "PARM99 for DNA,RNA,AA, organic molecules, Polariz.& LP incl.02/04/99\n",
      "Loading parameters: /home/francesco/anaconda3/envs/AmberTools21/dat/leap/parm/frcmod.ff99SB\n",
      "Reading force field modification type file (frcmod)\n",
      "Reading title:\n",
      "Modification/update of parm99.dat (Hornak & Simmerling)\n",
      "Loading library: /home/francesco/anaconda3/envs/AmberTools21/dat/leap/lib/all_nucleic94.lib\n",
      "Loading library: /home/francesco/anaconda3/envs/AmberTools21/dat/leap/lib/all_amino94.lib\n",
      "Loading library: /home/francesco/anaconda3/envs/AmberTools21/dat/leap/lib/all_aminoct94.lib\n",
      "Loading library: /home/francesco/anaconda3/envs/AmberTools21/dat/leap/lib/all_aminont94.lib\n",
      "Loading library: /home/francesco/anaconda3/envs/AmberTools21/dat/leap/lib/ions94.lib\n",
      "Loading library: /home/francesco/anaconda3/envs/AmberTools21/dat/leap/lib/solvents.lib\n",
      "----- Source: /home/francesco/anaconda3/envs/AmberTools21/dat/leap/cmd/leaprc.gaff\n",
      "----- Source of /home/francesco/anaconda3/envs/AmberTools21/dat/leap/cmd/leaprc.gaff done\n",
      "Log file: ./leap.log\n",
      "Loading parameters: /home/francesco/anaconda3/envs/AmberTools21/dat/leap/parm/gaff.dat\n",
      "Reading title:\n",
      "AMBER General Force Field for organic molecules (Version 1.81, May 2017)\n",
      "----- Source: /home/francesco/anaconda3/envs/AmberTools21/dat/leap/cmd/leaprc.water.tip3p\n",
      "----- Source of /home/francesco/anaconda3/envs/AmberTools21/dat/leap/cmd/leaprc.water.tip3p done\n",
      "Loading library: /home/francesco/anaconda3/envs/AmberTools21/dat/leap/lib/atomic_ions.lib\n",
      "Loading library: /home/francesco/anaconda3/envs/AmberTools21/dat/leap/lib/solvents.lib\n",
      "Loading parameters: /home/francesco/anaconda3/envs/AmberTools21/dat/leap/parm/frcmod.tip3p\n",
      "Reading force field modification type file (frcmod)\n",
      "Reading title:\n",
      "This is the additional/replacement parameter set for TIP3P water\n",
      "Loading parameters: /home/francesco/anaconda3/envs/AmberTools21/dat/leap/parm/frcmod.ions1lm_126_tip3p\n",
      "Reading force field modification type file (frcmod)\n",
      "Reading title:\n",
      "Li/Merz ion parameters of monovalent ions for TIP3P water model (12-6 normal usage set)\n",
      "Loading parameters: /home/francesco/anaconda3/envs/AmberTools21/dat/leap/parm/frcmod.ionsjc_tip3p\n",
      "Reading force field modification type file (frcmod)\n",
      "Reading title:\n",
      "Monovalent ion parameters for Ewald and TIP3P water from Joung & Cheatham JPCB (2008)\n",
      "Loading parameters: /home/francesco/anaconda3/envs/AmberTools21/dat/leap/parm/frcmod.ions234lm_126_tip3p\n",
      "Reading force field modification type file (frcmod)\n",
      "Reading title:\n",
      "Li/Merz ion parameters of divalent to tetravalent ions for TIP3P water model (12-6 normal usage set)\n",
      "Loading parameters: ./efz.frcmod\n",
      "Reading force field modification type file (frcmod)\n",
      "Reading title:\n",
      "Remark line goes here\n",
      "Loading library: ./efz.lib\n",
      "Loading PDB file: ./hivrt_efz.pdb\n",
      "  Added missing heavy atom: .R<CGLY 543>.A<OXT 8>\n",
      "  total atoms in file: 4432\n",
      "  Leap added 4478 missing atoms according to residue templates:\n",
      "       1 Heavy\n",
      "       4477 H / lone pairs\n",
      "Adding 2 counter ions to \"hivcompl\" using 1A grid\n",
      "Grid extends from solute vdw + 2.51  to  8.51\n",
      "Resolution:      1.00 Angstrom.\n",
      " (no solvent present)\n",
      "Calculating grid charges\n",
      "Placed Cl- in hivcompl at (10.08, 3.92, 25.11).\n",
      "Placed Cl- in hivcompl at (-0.92, -41.08, 55.11).\n",
      "\n",
      "Done adding ions.\n",
      "  Solute vdw bounding box:              69.687 88.937 97.190\n",
      "  Total bounding box for atom centers:  89.687 108.937 117.190\n",
      "  Solvent unit box:                     18.774 18.774 18.774\n",
      "  Total vdw box size:                   92.915 111.859 120.063 angstroms.\n",
      "  Volume: 1247865.253 A^3 \n",
      "  Total mass 638990.032 amu,  Density 0.850 g/cc\n",
      "  Added 31986 residues.\n",
      "Checking Unit.\n",
      "Building topology.\n",
      "Building atom parameters.\n",
      "Building bond parameters.\n",
      "Building angle parameters.\n",
      "Building proper torsion parameters.\n",
      "Building improper torsion parameters.\n",
      " total 1708 improper torsions applied\n",
      "Building H-Bond parameters.\n",
      "Incorporating Non-Bonded adjustments.\n",
      "Not Marking per-residue atom chain types.\n",
      "Marking per-residue atom chain types.\n",
      "  (Residues lacking connect0/connect1 - \n",
      "   these don't have chain types marked:\n",
      "\n",
      "\tres\ttotal affected\n",
      "\n",
      "\tCGLY\t1\n",
      "\tNPRO\t1\n",
      "\tWAT\t31986\n",
      "  )\n",
      " (no restraints)\n",
      "Writing pdb file: hivrt_efz_solv.pdb\n",
      "   printing CRYST1 record to PDB file with box info\n",
      "\n",
      "/home/francesco/anaconda3/envs/AmberTools21/bin/teLeap: Warning!\n",
      " Converting N-terminal residue name to PDB format: NPRO -> PRO\n",
      "\n",
      "/home/francesco/anaconda3/envs/AmberTools21/bin/teLeap: Warning!\n",
      " Converting C-terminal residue name to PDB format: CGLY -> GLY\n",
      "\tQuit\n",
      "\n",
      "Exiting LEaP: Errors = 0; Warnings = 2; Notes = 0.\n"
     ]
    }
   ],
   "source": [
    "! tleap -f tleap_protefz_solv.in"
   ]
  },
  {
   "cell_type": "code",
   "execution_count": 16,
   "metadata": {},
   "outputs": [
    {
     "data": {
      "application/vnd.jupyter.widget-view+json": {
       "model_id": "1bbfb89570fe4121bc82801679136d27",
       "version_major": 2,
       "version_minor": 0
      },
      "text/plain": [
       "NGLWidget()"
      ]
     },
     "metadata": {},
     "output_type": "display_data"
    }
   ],
   "source": [
    "view = nglview.show_structure_file(\"hivrt_efz_solv.pdb\")\n",
    "view.clear_representations()\n",
    "view.add_representation(repr_type='cartoon', selection='protein', color='sstruc')\n",
    "view.add_representation(repr_type='ball+stick', radius='0.05', selection='water')\n",
    "view.add_representation(repr_type='ball+stick', radius='0.5', selection='ligand')\n",
    "view.add_representation(repr_type='ball+stick', radius='0.5', selection='ion')\n",
    "view._remote_call('setSize', target='Widget', args=['','600px'])\n",
    "view"
   ]
  },
  {
   "cell_type": "markdown",
   "metadata": {},
   "source": [
    "## SHORT MD WITHOUT WATER"
   ]
  },
  {
   "cell_type": "markdown",
   "metadata": {},
   "source": [
    "We already did the optimization passage in the previous lesson. Now we want to first heat up the complex and then run the the proper MD."
   ]
  },
  {
   "cell_type": "markdown",
   "metadata": {},
   "source": [
    "### Heating"
   ]
  },
  {
   "cell_type": "markdown",
   "metadata": {},
   "source": [
    "The next step if to heat the hivrt_efz complex. For speed we will do this very rapidly over 1ps. Ideally you should do this for much longer.\n",
    "\n",
    "Here's our input file, we will run MD (imin=0) and this is not a restart (irest=0). In this example we will not use shake since it is possible that the hydrogen motion may effect the binding energy (probably not, but it serves as an example here). As we are not using shake we will need a time step smaller than normal. Here I will use a time step of 1 fs and run for 1000 steps [2 ps] (dt = 0.001, nstlim=1000, ntc=1). We will also write to our output file every 20 steps and to our trajectory [mdcrd] file every 20 steps (ntpr=20,ntwx=20). For temperature control we will use a Langevin dynamics approach with a collision frequency of 1 ps^-1. We will start our system at 0K and we want a target temperature of 300K (ntt=3, gamma_ln=1.0, tempi=0.0, temp0=300.0). And here's the input file *heat.in*:\n",
    "\n",
    "```\n",
    "cat > mdin <<EOF\n",
    "&cntrl\n",
    "  imin=0, irest=0,\n",
    "  nstlim=1000,dt=0.001, ntc=1,\n",
    "  ntpr=20, ntwx=20,\n",
    "  cut=16, ntb=0, igb=1,\n",
    "  ntt=3, gamma_ln=1.0,\n",
    "  tempi=0.0, temp0=300.0,\n",
    " /\n",
    "EOF\n",
    "\n",
    "set output = mdout\n",
    "\n",
    "```"
   ]
  },
  {
   "cell_type": "code",
   "execution_count": 47,
   "metadata": {},
   "outputs": [],
   "source": [
    "! sander -O -i heat.in -o hivrt_efz_heat.out -p ../P2/hivrt_efz.prmtop -c ../P2/hivrt_efz_min.ncrst  -r hivrt_efz_heat.rst -x hivrt_efz_heat.nc"
   ]
  },
  {
   "cell_type": "markdown",
   "metadata": {},
   "source": [
    "Explanations of the parameters above:\n",
    "* **nstlim**=1000 number of steps\n",
    "* **dt**=0.001 timestep 1fs (depends on the constraints)\n",
    "* **ntpr**=20 writing frequency of the output file (energies)\n",
    "* **ntwx**=20 writing frequency of the trajectory file\n",
    "* **cut**=16 cutoff (in Angstrom)\n",
    "* **ntb**=0 no periodic boundary (PBC)\n",
    "* **igb**=1 implicit solvent\n",
    "* **ntt**=3 Langevin dynamics\n",
    "* **gamma_ln**=1 collision frequency 1ps^-1\n",
    "* **tempi**=0.0 start temperature\n",
    "* **tempi**=300 target temperature"
   ]
  },
  {
   "cell_type": "markdown",
   "metadata": {},
   "source": [
    "Generating summary files for quantities contained in *hivrt_efz_heat.out*"
   ]
  },
  {
   "cell_type": "code",
   "execution_count": 48,
   "metadata": {},
   "outputs": [
    {
     "name": "stdout",
     "output_type": "stream",
     "text": [
      "/home/francesco/Scrivania/PDF LEZIONI 2021-22/MOLECULAR SIMULATION/P3/heat_an\n",
      "Processing sander output file (../hivrt_efz_heat.out)...\n",
      "Starting output...\n",
      "Outputing summary.TEMP\n",
      "Outputing summary_avg.TEMP\n",
      "Outputing summary_rms.TEMP\n",
      "Outputing summary.TSOLUTE\n",
      "Outputing summary_avg.TSOLUTE\n",
      "Outputing summary_rms.TSOLUTE\n",
      "Outputing summary.TSOLVENT\n",
      "Outputing summary_avg.TSOLVENT\n",
      "Outputing summary_rms.TSOLVENT\n",
      "Outputing summary.PRES\n",
      "Outputing summary_avg.PRES\n",
      "Outputing summary_rms.PRES\n",
      "Outputing summary.EKCMT\n",
      "Outputing summary_avg.EKCMT\n",
      "Outputing summary_rms.EKCMT\n",
      "Outputing summary.ETOT\n",
      "Outputing summary_avg.ETOT\n",
      "Outputing summary_rms.ETOT\n",
      "Outputing summary.EKTOT\n",
      "Outputing summary_avg.EKTOT\n",
      "Outputing summary_rms.EKTOT\n",
      "Outputing summary.EPTOT\n",
      "Outputing summary_avg.EPTOT\n",
      "Outputing summary_rms.EPTOT\n",
      "Outputing summary.DENSITY\n",
      "Outputing summary_avg.DENSITY\n",
      "Outputing summary_rms.DENSITY\n",
      "Outputing summary.VOLUME\n",
      "Outputing summary_avg.VOLUME\n",
      "Outputing summary_rms.VOLUME\n",
      "Outputing summary.ESCF\n",
      "Outputing summary_avg.ESCF\n",
      "Outputing summary_rms.ESCF\n",
      "/home/francesco/Scrivania/PDF LEZIONI 2021-22/MOLECULAR SIMULATION/P3\n",
      "/home/francesco/Scrivania/PDF LEZIONI 2021-22/MOLECULAR SIMULATION/P3\n"
     ]
    }
   ],
   "source": [
    "%cd heat_an\n",
    "! $AMBERHOME/bin/process_mdout.perl ../hivrt_efz_heat.out\n",
    "%cd ..\n",
    "! pwd"
   ]
  },
  {
   "cell_type": "code",
   "execution_count": 49,
   "metadata": {},
   "outputs": [],
   "source": [
    "sum_energ=np.loadtxt('heat_an/summary.ETOT')\n",
    "sum_temp=np.loadtxt('heat_an/summary.TEMP')"
   ]
  },
  {
   "cell_type": "code",
   "execution_count": 64,
   "metadata": {},
   "outputs": [
    {
     "data": {
      "image/png": "[encoded data removed]",
      "text/plain": [
       "<Figure size 720x288 with 2 Axes>"
      ]
     },
     "metadata": {},
     "output_type": "display_data"
    }
   ],
   "source": [
    "with plt.style.context(\"ggplot\"):\n",
    "    _, ax = plt.subplots(1,2,figsize=(10,4))\n",
    "    ax[0].errorbar(np.arange(len(sum_temp)),sum_temp[:,1], sum_temp[:,0])\n",
    "    ax[0].set_xlabel(\"Iteration\")\n",
    "    ax[0].set_ylabel(\"Temperature [K]\")\n",
    "    ax[1].plot(sum_energ[:,1], color=\"g\")\n",
    "    ax[1].set_xlabel(\"Iteration\")\n",
    "    ax[1].set_ylabel(\"Total Energy\")\n",
    "    plt.tight_layout()"
   ]
  },
  {
   "cell_type": "markdown",
   "metadata": {},
   "source": [
    "The heating trajectory and restart coordinates are  saved in 1FKO_sus_eq.nc and 1FKO_sus_eq.rst, respectively. Now that the sustiva-RT complex is minimized and heated, you can take a look at the snapshot at 300K. This structure can be used as the starting point for further equilibration."
   ]
  },
  {
   "cell_type": "markdown",
   "metadata": {},
   "source": [
    "### Molecular dynamics"
   ]
  },
  {
   "cell_type": "markdown",
   "metadata": {},
   "source": [
    "*md.in*:\n",
    "\n",
    "```\n",
    "cat > mdin <<EOF\n",
    "&cntrl\n",
    "  imin=0, irest=1, ntx=5,\n",
    "  nstlim=100,dt=0.001, ntc=2,\n",
    "  ntpr=20, ntwx=20, ntwr=20,\n",
    "  cut=16, ntb=0, igb=1,\n",
    "  ntt=0, temp0=300.0,\n",
    " /\n",
    "EOF\n",
    "```"
   ]
  },
  {
   "cell_type": "code",
   "execution_count": 51,
   "metadata": {},
   "outputs": [],
   "source": [
    "! sander -O -i md.in -o hivrt_efz_md.out -p ../P2/hivrt_efz.prmtop -c hivrt_efz_heat.rst  -r hivrt_efz_md.rst -x hivrt_efz_md.nc "
   ]
  },
  {
   "cell_type": "code",
   "execution_count": 78,
   "metadata": {},
   "outputs": [],
   "source": [
    "t = mdt.load(\"hivrt_efz_md.nc\", top=\"../P2/hivrt_efz.prmtop\")\n",
    "prot = t.atom_slice(t.topology.select(\"protein\"))\n",
    "efz = t.atom_slice(t.topology.select(\"resname EFZ\"))"
   ]
  },
  {
   "cell_type": "code",
   "execution_count": 56,
   "metadata": {},
   "outputs": [],
   "source": [
    "rmsd_prot = np.array([mdt.rmsd(prot,prot[i]) for i in range(len(prot))])"
   ]
  },
  {
   "cell_type": "code",
   "execution_count": 74,
   "metadata": {},
   "outputs": [
    {
     "data": {
      "image/png": "[encoded data removed]",
      "text/plain": [
       "<Figure size 1080x432 with 3 Axes>"
      ]
     },
     "metadata": {
      "needs_background": "light"
     },
     "output_type": "display_data"
    }
   ],
   "source": [
    "fig, ax_rmsd = plt.subplots(1,2,figsize=(15,6))\n",
    "g1 = ax_rmsd[0].imshow(rmsd_prot, cmap=\"jet\")\n",
    "fig.colorbar(g1, ax=ax_rmsd[0],location=\"left\")\n",
    "ax_rmsd[1].plot(rmsd_prot[:,0])\n",
    "ax_rmsd[1].grid(linestyle=\"--\")"
   ]
  },
  {
   "cell_type": "markdown",
   "metadata": {},
   "source": [
    "## SETTING UP MD WITH PERIODIC BOUNDARY CONDITIONS (PBC)"
   ]
  },
  {
   "cell_type": "markdown",
   "metadata": {},
   "source": [
    "### Minimization with PBC"
   ]
  },
  {
   "cell_type": "markdown",
   "metadata": {},
   "source": [
    "If we want to run a MD wth PBC it's necessary to also do the MM first minimization in the same fashion. The input file for the sander run is **:"
   ]
  },
  {
   "cell_type": "markdown",
   "metadata": {},
   "source": [
    "*min_pbc.in*:\n",
    "```\n",
    "cat > mdin <<EOF\n",
    "&cntrl\n",
    "  imin   = 1,\n",
    "  maxcyc = 20,\n",
    "  ncyc   = 10,\n",
    "  ntb    = 1,\n",
    "  ntr    = 0,\n",
    "  cut    = 10.0\n",
    " /\n",
    "EOF\n",
    "\n",
    "set output = minout\n",
    "```"
   ]
  },
  {
   "cell_type": "code",
   "execution_count": null,
   "metadata": {},
   "outputs": [],
   "source": [
    "! sander -O -i min_pbc.in -o hivrt_efz_minsolv.out -p hivrt_efz_solv.prmtop -c hivrt_efz_solv.rst7  -r hivrt_efz_minsolv.ncrst"
   ]
  },
  {
   "cell_type": "markdown",
   "metadata": {},
   "source": [
    "### Heating with PBC"
   ]
  },
  {
   "cell_type": "markdown",
   "metadata": {},
   "source": [
    "The input file *heat_pbc.in* is:\n",
    "\n",
    "```\n",
    "cat > mdin <<EOF\n",
    " &cntrl\n",
    "  imin   = 0,\n",
    "  irest  = 0,\n",
    "  ntx    = 1,\n",
    "  ntb    = 1,\n",
    "  cut    = 10.0,\n",
    "  ntr    = 0,\n",
    "  ntc    = 2,\n",
    "  ntf    = 2,\n",
    "  tempi  = 0.0,\n",
    "  temp0  = 300.0,\n",
    "  ntt    = 3,\n",
    "  gamma_ln = 1.0,\n",
    "  nstlim = 10000, dt = 0.002\n",
    "  ntpr = 100, ntwx = 100, ntwr = 1000\n",
    " /\n",
    "EOF\n",
    "\n",
    "set output = mdout\n",
    "```"
   ]
  },
  {
   "cell_type": "code",
   "execution_count": null,
   "metadata": {},
   "outputs": [],
   "source": [
    "! sander -O -i heat_pbc.in -o hivrt_efz_heatpbc.out -p hivrt_efz_solv.prmtop -c hivrt_efz_minsolv.ncrst  -r hivrt_efz_heatpbc.rst -x hivrt_efz_heatpbc.nc"
   ]
  },
  {
   "cell_type": "markdown",
   "metadata": {},
   "source": [
    "Checking final coordinates"
   ]
  },
  {
   "cell_type": "code",
   "execution_count": null,
   "metadata": {},
   "outputs": [],
   "source": [
    "! ambpdb -p hivrt_efz.prmtop -c hivrt_efz_md.ncrst > hivrt_efz_md.pdb"
   ]
  },
  {
   "cell_type": "markdown",
   "metadata": {},
   "source": [
    "Suggestion for a good run:\n",
    "1. **MINIMIZATION**: first minimize the protein in order for it to behave properly (up to when??? some indicators)\n",
    "2. be aware of eventual **charges** and fix them by adding ions (automatically with leap or even manually directly on the PDB file). If not done in some FF this could lead to the disintegration of the molecule\n",
    "3. **HEATING**: run a first MD without velocities (assigned randomlly) to reach the desired temperature\n",
    "4. **MOLECULAR DYNAMICS**: when this is reached (make sure of it), you can start the proper MD **without reassigning the velocities** (they are properly assigned after the heating phase) until you reach an equilibrium\n",
    "    * if you reassing the velocities you could assign to particular areas large forces that could have strange effects\n",
    "    * better wait until we reach the equilibrium and maybe form that point on try to reassing the volecities in order to explore different directions"
   ]
  },
  {
   "cell_type": "markdown",
   "metadata": {},
   "source": [
    "# MD parameters"
   ]
  },
  {
   "cell_type": "markdown",
   "metadata": {},
   "source": [
    "Let’s list the parameters and their meaning:\n",
    "* min  \n",
    "    * 0: Choose a molecular dynamics (MD) run [no minimization] [MD]\n",
    "    * 1: Choose a minimization run [MIN]\n",
    "* ntx\n",
    "    * 1: Initial file contains coordinates, but no velocities. [MIN]\n",
    "    * 5: Read coordinates and velocities from unformatted rst7 coordinate file (coordinates available)\n",
    "* irest (you want to use the velocities you generated, if you have, use them)\n",
    "    * 0: Do not restart the simulation. (restart is not applicable to minimization) [MIN]\n",
    "    * 1: Restart previous MD run [This means velocities are expected in the rst7 file and will be used to provide initial atom velocities] [MD]\n",
    "* maxcyc: Maximum minimization cycles [MIN]\n",
    "* ncyc: The steepest descent algorithm for the first 0-ncyc cycles, then switches the conjugate gradient algorithm for ncyc-maxcyc cycles [MIN]\n",
    "* ntpr: Print to the Amber mdout output file every ntpr cycles [MIN]\n",
    "* ntwx: No Amber mdcrd trajectory file written (not applicable to minimization)\n",
    "* cut: Nonbonded cutoff distance in Angstroms (for PME, limit of the direct space sum - do NOT reduce this below 8.0. Higher numbers give slightly better accuracy but at vastly increased computational cost.)\n",
    "* nstlim: Number of MD steps in run (nstlim * dt = run length in ps) [MD]\n",
    "* dt: Time step in picoseconds (ps). The time length of each MD step [MD]\n",
    "* ntf: Setting to not calculate force for SHAKE constrained bonds [MD]\n",
    "\n",
    "CONSTRAINTS:\n",
    "* ilbelly: belly type dynamics\n",
    "    * 1: a subset of the atoms in the system will be allowed to move, and the coordinates of the rest will be frozen. The moving atoms are specified with bellymask. This option is not available when igb>0. Note that this does not provide any significant speed advantage. Most applications should use the ntr variable instead to restrain parts of the system to stay close to some initial configuration.\n",
    "* bellymask: string that specifies the moving atoms when ibelly=1.\n",
    "* ntc: SHAKE keep some bonds fixed and some other not (like bonds with hydrogens, not really important, we can keep them fixed for all the simulation) [MD]\n",
    "    * 1: no\n",
    "    * 2: only H\n",
    "    * 3: all bonds\n",
    "* ntr: (ideally you would like to deleate these constraints at the end of the simulation, but tipically you have to keep them for a long time in order to arrive to a good equilibration)\n",
    "    * 1: harmonic restraint, I constrain the positions around the current strucutre, assign to each atom position an harmonic potential\n",
    "* restraint_wt: orce constant for harminc restraints\n",
    "\n",
    "In case ntr > 0 the constraint specification is in a separate section (keep track of them in order to undesrtand the results)\n",
    "```\n",
    "/\n",
    "keep EFZ fix         [these are the specifications to tell the program what to keep fixed]\n",
    "500.0                [force constant very high, almost fixed]\n",
    "RES 544 544          [in general here you put the specification for the restraints]\n",
    "END\n",
    "END\n",
    "```\n",
    "\n",
    "* ntwx: Write Amber trajectory file mdcrd every ntwx steps [MD]\n",
    "* ntb\n",
    "    * 1: Periodic boundaries for constant volume [MD]\n",
    "* ntp\n",
    "    * 0: No pressure control [MD]\n",
    "\n",
    "TEMPERATURE\n",
    "* ntt\n",
    "    * 0: pure Newtonian dynamics\n",
    "    * 1: Berendsen temperature coupling scheme\n",
    "    * 2: Andreson thermostat\n",
    "    * 3: Temperature control with Langevin thermostat [MD]\n",
    "* gamma_ln: Langevin thermostat collision frequency [MD]\n",
    "* tempi: Initial thermostat temperature in K (see NMROPT section) [MD]\n",
    "* temp0: Final thermostat temperature in K (see NMROPT section) [MD]\n",
    "* nmropt\n",
    "    * 1: NMR restraints and weight changes read (see NMROPT section) [MD]\n",
    "* ig:\n",
    "    * -1: Randomize the seed for the pseudo-random number generator [always a good idea unless you are debugging a simulation problem] [MD]\n"
   ]
  },
  {
   "cell_type": "markdown",
   "metadata": {},
   "source": [
    "# LAB 4"
   ]
  },
  {
   "cell_type": "code",
   "execution_count": 1,
   "metadata": {},
   "outputs": [
    {
     "name": "stdout",
     "output_type": "stream",
     "text": [
      "/home/francesco/Scrivania/PDF_LEZIONI_2021-22/MOLECULAR_SIMULATION/P4\n"
     ]
    }
   ],
   "source": [
    "%cd /home/francesco/Scrivania/PDF_LEZIONI_2021-22/MOLECULAR_SIMULATION/P4"
   ]
  },
  {
   "cell_type": "markdown",
   "metadata": {},
   "source": [
    "## Minimise with EFZ gradually releasing the constraints"
   ]
  },
  {
   "cell_type": "markdown",
   "metadata": {},
   "source": [
    "*min_1.in*:\n",
    "\n",
    "```\n",
    "cat > mdin <<EOF\n",
    " &cntrl \n",
    "   imin=1, \n",
    "   maxcyc=1000, \n",
    "   ncyc=250, \n",
    "   cut=12, \n",
    "   ntb=0, \n",
    "   igb=1,\n",
    "   ntr=1,\n",
    " /\n",
    "keep EFZ fix\n",
    "500.0\n",
    "RES 544 544\n",
    "END\n",
    "END\n",
    "EOF\n",
    "\n",
    "set output = minout\n",
    "\n",
    "```"
   ]
  },
  {
   "cell_type": "code",
   "execution_count": 2,
   "metadata": {},
   "outputs": [],
   "source": [
    "! sander -O -i min1.in -o hivcompl_min.out -p hivcompl.prmtop -c hivcompl.rst7  -r hivcompl_min.ncrst -ref hivcompl.rst7"
   ]
  },
  {
   "cell_type": "markdown",
   "metadata": {},
   "source": [
    "*min_2.in*:\n",
    "\n",
    "```\n",
    "cat > mdin <<EOF\n",
    " &cntrl \n",
    "   imin=1, \n",
    "   maxcyc=500, \n",
    "   ncyc=50, \n",
    "   cut=12, \n",
    "   ntb=0, \n",
    "   igb=1,\n",
    "   ntr=1,\n",
    " /\n",
    "keep EFZ fix\n",
    "50.0\n",
    "RES 544 544\n",
    "END\n",
    "END\n",
    "EOF\n",
    "\n",
    "set output = minout\n",
    "\n",
    "```"
   ]
  },
  {
   "cell_type": "code",
   "execution_count": null,
   "metadata": {},
   "outputs": [],
   "source": [
    "! sander -O -i min2.in -o hivcompl_min2.out -p hivcompl.prmtop -c hivcompl_min.ncrst  -r hivcompl_min2.ncrst -ref hivcompl.rst7"
   ]
  },
  {
   "cell_type": "markdown",
   "metadata": {},
   "source": [
    "*min_3.in*:\n",
    "\n",
    "```\n",
    "cat > mdin <<EOF\n",
    " &cntrl \n",
    "   imin=1, \n",
    "   maxcyc=500, \n",
    "   ncyc=50, \n",
    "   cut=12, \n",
    "   ntb=0, \n",
    "   igb=1,\n",
    "   ntr=1,\n",
    " /\n",
    "keep EFZ fix\n",
    "5.0\n",
    "RES 544 544\n",
    "END\n",
    "END\n",
    "EOF\n",
    "\n",
    "set output = minout\n",
    "\n",
    "```"
   ]
  },
  {
   "cell_type": "code",
   "execution_count": null,
   "metadata": {},
   "outputs": [],
   "source": [
    "! sander -O -i min3.in -o hivcompl_min3.out -p hivcompl.prmtop -c hivcompl_min2.ncrst  -r hivcompl_min3.ncrst -ref hivcompl.rst7"
   ]
  },
  {
   "cell_type": "markdown",
   "metadata": {},
   "source": [
    "*min_4.in*:\n",
    "\n",
    "```\n",
    "cat > mdin <<EOF\n",
    " &cntrl \n",
    "   imin=1, \n",
    "   maxcyc=500, \n",
    "   ncyc=50, \n",
    "   cut=12, \n",
    "   ntb=0, \n",
    "   igb=1,\n",
    "   ntr=0,\n",
    " /\n",
    "EOF\n",
    "\n",
    "set output = minout\n",
    "\n",
    "```"
   ]
  },
  {
   "cell_type": "code",
   "execution_count": null,
   "metadata": {},
   "outputs": [],
   "source": [
    "! sander -O -i min4.in -o hivcompl_min4.out -p hivcompl.prmtop -c hivcompl_min3.ncrst  -r hivcompl_min4.ncrst"
   ]
  },
  {
   "cell_type": "markdown",
   "metadata": {},
   "source": [
    "*min_5.in*:\n",
    "\n",
    "```\n",
    "cat > mdin <<EOF\n",
    " &cntrl \n",
    "   imin=1, \n",
    "   maxcyc=2500, \n",
    "   ncyc=250, \n",
    "   cut=10, \n",
    "   ntb=0, \n",
    "   igb=1,\n",
    "   ntr=0,\n",
    " /\n",
    "EOF\n",
    "\n",
    "set output = minout\n",
    "\n",
    "```"
   ]
  },
  {
   "cell_type": "code",
   "execution_count": null,
   "metadata": {},
   "outputs": [],
   "source": [
    "! sander -O -i min5.in -o hivcompl_min5.out -p hivcompl.prmtop -c hivcompl_min4.ncrst  -r hivcompl_min5.ncrst"
   ]
  },
  {
   "cell_type": "code",
   "execution_count": 56,
   "metadata": {},
   "outputs": [],
   "source": [
    "#ENERGY\n",
    "! grep -A1 \" ENERGY \" hivcompl_min.out | grep -v \" ENERGY \" | grep \" \"| awk '{print$1,$2}' > min_an/energ_min1.dat\n",
    "! grep -A1 \" ENERGY \" hivcompl_min2.out | grep -v \" ENERGY \" | grep \" \"| awk '{print$1,$2}' > min_an/energ_min2.dat\n",
    "! grep -A1 \" ENERGY \" hivcompl_min3.out | grep -v \" ENERGY \" | grep \" \"| awk '{print$1,$2}' > min_an/energ_min3.dat\n",
    "! grep -A1 \" ENERGY \" hivcompl_min2.out | grep -v \" ENERGY \" | grep \" \"| awk '{print$1,$2}' > min_an/energ_min4.dat\n",
    "! grep -A1 \" ENERGY \" hivcompl_min5.out | grep -v \" ENERGY \" | grep \" \"| awk '{print$1,$2}' > min_an/energ_min5.dat\n",
    "\n",
    "#GMAX\n",
    "! grep -A1 \" GMAX \" hivcompl_min.out | grep -v \" GMAX \" | grep \" \"| awk '{print$1,$4}' > min_an/gmax_min1.dat\n",
    "! grep -A1 \" GMAX \" hivcompl_min2.out | grep -v \" GMAX \" | grep \" \"| awk '{print$1,$4}' > min_an/gmax_min2.dat\n",
    "! grep -A1 \" GMAX \" hivcompl_min3.out | grep -v \" GMAX \" | grep \" \"| awk '{print$1,$4}' > min_an/gmax_min3.dat\n",
    "! grep -A1 \" GMAX \" hivcompl_min4.out | grep -v \" GMAX \" | grep \" \"| awk '{print$1,$4}' > min_an/gmax_min4.dat\n",
    "! grep -A1 \" GMAX \" hivcompl_min5.out | grep -v \" GMAX \" | grep \" \"| awk '{print$1,$4}' > min_an/gmax_min5.dat\n",
    "\n",
    "#RMS\n",
    "! grep -A1 \" RMS\" hivcompl_min.out | grep -v \" RMS\" | grep \" \"| awk '{print$1,$3}' > min_an/rms_min1.dat\n",
    "! grep -A1 \" RMS\" hivcompl_min2.out | grep -v \" RMS\" | grep \" \"| awk '{print$1,$3}' > min_an/rms_min2.dat\n",
    "! grep -A1 \" RMS\" hivcompl_min3.out | grep -v \" RMS\" | grep \" \"| awk '{print$1,$3}' > min_an/rms_min3.dat\n",
    "! grep -A1 \" RMS\" hivcompl_min4.out | grep -v \" RMS\" | grep \" \"| awk '{print$1,$3}' > min_an/rms_min4.dat\n",
    "! grep -A1 \" RMS\" hivcompl_min5.out | grep -v \" RMS\" | grep \" \"| awk '{print$1,$3}' > min_an/rms_min5.dat"
   ]
  },
  {
   "cell_type": "code",
   "execution_count": 57,
   "metadata": {},
   "outputs": [],
   "source": [
    "l4_min_gmax = []\n",
    "for i in [1,2,3,4,5]:\n",
    "    l4_min_gmax.append(np.loadtxt(\"min_an/gmax_min%d.dat\" % (i)))\n",
    "\n",
    "l4_min_energ = []\n",
    "for i in [1,2,3,4,5]:\n",
    "    l4_min_energ.append(np.loadtxt(\"min_an/energ_min%d.dat\" % (i)))\n",
    "\n",
    "l4_min_rms = []\n",
    "for i in [1,2,3,4,5]:\n",
    "    l4_min_rms.append(np.loadtxt(\"min_an/rms_min%d.dat\" % (i)))"
   ]
  },
  {
   "cell_type": "code",
   "execution_count": 60,
   "metadata": {},
   "outputs": [
    {
     "data": {
      "image/png": "[encoded data removed]",
      "text/plain": [
       "<Figure size 576x360 with 1 Axes>"
      ]
     },
     "metadata": {},
     "output_type": "display_data"
    }
   ],
   "source": [
    "with plt.style.context(\"ggplot\"):\n",
    "    plt.figure(figsize=(8,5))\n",
    "    for i in range(5):\n",
    "        if i==0:\n",
    "            bias = 0\n",
    "        else:\n",
    "            bias += l4_min_gmax[i-1][-1,0]\n",
    "        plt.semilogy(l4_min_gmax[i][:,0]+bias,l4_min_gmax[i][:,1], label=\"min\"+str(i+1))\n",
    "    plt.legend()\n",
    "    plt.title(\"GMAX\", fontweight=\"bold\")\n",
    "    plt.tight_layout()\n",
    "    plt.show()"
   ]
  },
  {
   "cell_type": "code",
   "execution_count": 61,
   "metadata": {},
   "outputs": [
    {
     "data": {
      "image/png": "[encoded data removed]",
      "text/plain": [
       "<Figure size 576x360 with 1 Axes>"
      ]
     },
     "metadata": {},
     "output_type": "display_data"
    }
   ],
   "source": [
    "with plt.style.context(\"ggplot\"):\n",
    "    plt.figure(figsize=(8,5))\n",
    "    for i in range(5):\n",
    "        if i==0:\n",
    "            bias = 0\n",
    "        else:\n",
    "            bias += l4_min_energ[i-1][-1,0]\n",
    "        plt.plot(l4_min_energ[i][:,0]+bias,l4_min_energ[i][:,1], label=\"min\"+str(i+1))\n",
    "    plt.legend()\n",
    "    plt.title(\"ENERGY\", fontweight=\"bold\")\n",
    "    plt.tight_layout()\n",
    "    plt.show()"
   ]
  },
  {
   "cell_type": "code",
   "execution_count": 62,
   "metadata": {},
   "outputs": [
    {
     "data": {
      "image/png": "[encoded data removed]",
      "text/plain": [
       "<Figure size 576x360 with 1 Axes>"
      ]
     },
     "metadata": {},
     "output_type": "display_data"
    }
   ],
   "source": [
    "with plt.style.context(\"ggplot\"):\n",
    "    plt.figure(figsize=(8,5))\n",
    "    for i in range(5):\n",
    "        if i==0:\n",
    "            bias = 0\n",
    "        else:\n",
    "            bias += l4_min_rms[i-1][-1,0]\n",
    "        plt.semilogy(l4_min_rms[i][:,0]+bias,l4_min_rms[i][:,1], label=\"min\"+str(i+1))\n",
    "    plt.legend()\n",
    "    plt.title(\"RMS\", fontweight=\"bold\")\n",
    "    plt.tight_layout()\n",
    "    plt.show()"
   ]
  },
  {
   "cell_type": "markdown",
   "metadata": {},
   "source": [
    "## Heating with SHAKE"
   ]
  },
  {
   "cell_type": "markdown",
   "metadata": {},
   "source": [
    "**NOTE: with implicit solvent do not use short cutoffs!**\n",
    "\n",
    "In heating set collision frequency high (up to 1000 ps-1 )\n",
    "\n",
    "*heat.in*:\n",
    "\n",
    "```\n",
    "cat > mdin <<EOF\n",
    "&cntrl\n",
    "  imin=0, irest=0,\n",
    "  nstlim=2500,dt=0.001,\n",
    "  ntpr=50, ntwx=50,\n",
    "  cut=10, ntb=0, igb=1,\n",
    "  ntt=3, gamma_ln=500,\n",
    "  tempi=0.0, temp0=300.0,\n",
    "  ntc=2,ntf=2,\n",
    " /\n",
    "EOF\n",
    "\n",
    "set output = mdout\n",
    "```"
   ]
  },
  {
   "cell_type": "code",
   "execution_count": null,
   "metadata": {},
   "outputs": [],
   "source": [
    "! sander -O -i heat.in -o hivrtcompl_heat1.out -p hivcompl.prmtop -c hivcompl_min5.ncrst  -r hivcompl_heat1.rst -x hivcompl_heat1.nc -ref hivcompl_min5.ncrst"
   ]
  },
  {
   "cell_type": "markdown",
   "metadata": {},
   "source": [
    "## MD decreasing coupling to temperature ‘bath’"
   ]
  },
  {
   "cell_type": "markdown",
   "metadata": {},
   "source": [
    "*md_1.in*:\n",
    "\n",
    "```\n",
    "cat > mdin <<EOF\n",
    "&cntrl\n",
    "  imin=0, irest=1, ntx=5,\n",
    "  nstlim=1000,dt=0.001, \n",
    "  ntpr=50, ntwx=50, ntwr=50,\n",
    "  cut=10, ntb=0, igb=1,\n",
    "  ntt=3, gamma_ln=250, temp0=300.0,\n",
    "  ntc=2, ntf=2,\n",
    " /\n",
    "EOF\n",
    "\n",
    "set output = mdout\n",
    "\n",
    "```\n",
    "\n",
    "For the other MD we reduce the value of the water collision frequency of tha Langevin thermostat:\n",
    "\n",
    "* *md_2*: gamma_ln = 100\n",
    "* *md_3*: gamma_ln = 50\n",
    "* *md_4*: gamma_ln = 5\n",
    "* *md_5*: gamma_ln = 5\n",
    "\n",
    "For the last MD (*md_5.in*), we also increase the time interval *dt* from 0.001 to 0.002, in order to sample a larger time interval."
   ]
  },
  {
   "cell_type": "code",
   "execution_count": 3,
   "metadata": {},
   "outputs": [],
   "source": [
    "! sander -O -i md_1.in -o hivrtcompl_md1.out -p hivcompl.prmtop -c hivcompl_md4.rst  -r hivcompl_md1.rst -x hivcompl_md1.rst7 -ref hivcompl_min5.ncrst"
   ]
  },
  {
   "cell_type": "markdown",
   "metadata": {},
   "source": [
    "# LAB 5"
   ]
  },
  {
   "cell_type": "code",
   "execution_count": 65,
   "metadata": {},
   "outputs": [
    {
     "name": "stdout",
     "output_type": "stream",
     "text": [
      "/home/francesco/Scrivania/PDF_LEZIONI_2021-22/MOLECULAR_SIMULATION/P5/MD-Trajectory-Tutorial-UniPD-2022\n"
     ]
    }
   ],
   "source": [
    "%cd /home/francesco/Scrivania/PDF_LEZIONI_2021-22/MOLECULAR_SIMULATION/P5/MD-Trajectory-Tutorial-UniPD-2022"
   ]
  },
  {
   "cell_type": "markdown",
   "metadata": {},
   "source": [
    "**How to install Plumed:**\n",
    "```\n",
    "conda create --name plumed\n",
    "conda activate plumed\n",
    "conda install -c conda-forge plumed\n",
    "```\n",
    "\n",
    "Chek if everything is ok (no errors should occour)\n",
    "```\n",
    "plumed --has-mpi && echo ok\n",
    "mx_mpi mdrun -h 2> /dev/null | grep -q plumed && echo ok\n",
    "```"
   ]
  },
  {
   "cell_type": "code",
   "execution_count": 67,
   "metadata": {},
   "outputs": [],
   "source": [
    "d_com = np.loadtxt(\"dist_com.dat\")"
   ]
  },
  {
   "cell_type": "code",
   "execution_count": 68,
   "metadata": {},
   "outputs": [
    {
     "data": {
      "text/plain": [
       "[<matplotlib.lines.Line2D at 0x7fc783ebd970>]"
      ]
     },
     "execution_count": 68,
     "metadata": {},
     "output_type": "execute_result"
    },
    {
     "data": {
      "image/png": "[encoded data removed]",
      "text/plain": [
       "<Figure size 432x288 with 1 Axes>"
      ]
     },
     "metadata": {
      "needs_background": "light"
     },
     "output_type": "display_data"
    }
   ],
   "source": [
    "plt.plot(d_com[:,0], d_com[:,1])"
   ]
  }
 ],
 "metadata": {
  "interpreter": {
   "hash": "b0e8a4eeadf887d70b5e53b5f7438de1595170a28a68e89803d7648b9265044e"
  },
  "kernelspec": {
   "display_name": "Python 3.9.12 ('AmberTools21')",
   "language": "python",
   "name": "python3"
  },
  "language_info": {
   "codemirror_mode": {
    "name": "ipython",
    "version": 3
   },
   "file_extension": ".py",
   "mimetype": "text/x-python",
   "name": "python",
   "nbconvert_exporter": "python",
   "pygments_lexer": "ipython3",
   "version": "3.9.12"
  },
  "orig_nbformat": 4
 },
 "nbformat": 4,
 "nbformat_minor": 2
}
